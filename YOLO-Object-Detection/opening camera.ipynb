{
 "cells": [
  {
   "cell_type": "code",
   "execution_count": 1,
   "metadata": {},
   "outputs": [],
   "source": [
    "import cv2\n",
    "\n",
    "cam = cv2.VideoCapture(1, cv2.CAP_DSHOW)\n",
    "\n",
    "while True:\n",
    "    check, frame = cam.read()\n",
    "\n",
    "    cv2.imshow('video', frame)\n",
    "\n",
    "    key = cv2.waitKey(1)\n",
    "    if key == 27:\n",
    "        break\n",
    "\n",
    "cam.release()\n",
    "cv2.destroyAllWindows()"
   ]
  },
  {
   "cell_type": "code",
   "execution_count": 1,
   "metadata": {},
   "outputs": [],
   "source": [
    "import cv2\n",
    "import time\n",
    "\n",
    "cam = cv2.VideoCapture(1, cv2.CAP_DSHOW)\n",
    "\n",
    "# Wait for 5 seconds\n",
    "time.sleep(5)\n",
    "\n",
    "# Capture an image\n",
    "check, frame = cam.read()\n",
    "\n",
    "if check:\n",
    "    cv2.imshow('Captured Image', frame)\n",
    "    cv2.imwrite('captured_image.jpg', frame)\n",
    "    cv2.waitKey(0)  # Wait until a key is pressed\n",
    "\n",
    "cam.release()\n",
    "cv2.destroyAllWindows()"
   ]
  },
  {
   "cell_type": "code",
   "execution_count": 5,
   "metadata": {},
   "outputs": [],
   "source": [
    "import cv2\n",
    "\n",
    "cam = cv2.VideoCapture(1, cv2.CAP_DSHOW)\n",
    "\n",
    "while True:\n",
    "    check, frame = cam.read()\n",
    "    \n",
    "    cv2.imshow('video', frame)\n",
    "\n",
    "    key = cv2.waitKey(1)\n",
    "\n",
    "    if key == 27:  # Press 'Esc' to exit the program\n",
    "        break\n",
    "    elif key == ord('s') or key == ord('S'):\n",
    "        # Press 's' or 'S' to save the current frame as an image\n",
    "        cv2.imwrite('captured_image.jpg', frame)\n",
    "        print(\"Image saved as 'captured_image.jpg'\")\n",
    "        break\n",
    "\n",
    "cam.release()\n",
    "cv2.destroyAllWindows()\n"
   ]
  },
  {
   "cell_type": "code",
   "execution_count": 6,
   "metadata": {},
   "outputs": [
    {
     "name": "stdout",
     "output_type": "stream",
     "text": [
      "Image saved as 'captured_image.jpg'\n"
     ]
    }
   ],
   "source": [
    "#check in this\n",
    "import cv2\n",
    "import time\n",
    "\n",
    "cam = cv2.VideoCapture(1, cv2.CAP_DSHOW)\n",
    "start_time = time.time()\n",
    "\n",
    "while True:\n",
    "    check, frame = cam.read()\n",
    "    \n",
    "    cv2.imshow('video', frame)\n",
    "    key = cv2.waitKey(1)\n",
    "\n",
    "    if key == 27:  # Press 'Esc' to exit the program\n",
    "        break\n",
    "    elif key == ord('s') or time.time() - start_time >= 2:\n",
    "        # Press 's' or 'S' to save the current frame as an image\n",
    "        cv2.imwrite('captured_image.jpg', frame)\n",
    "        print(\"Image saved as 'captured_image.jpg'\")\n",
    "        break\n",
    "\n",
    "cam.release()\n",
    "cv2.destroyAllWindows()"
   ]
  },
  {
   "cell_type": "code",
   "execution_count": 9,
   "metadata": {},
   "outputs": [],
   "source": [
    "import cv2\n",
    "import time\n",
    "\n",
    "cam = cv2.VideoCapture(0, cv2.CAP_DSHOW)\n",
    "\n",
    "while True:\n",
    "    check, frame = cam.read()\n",
    "    \n",
    "    cv2.imshow('video', frame)\n",
    "\n",
    "    current_time = time.time()\n",
    "    if current_time % 2 == 0:\n",
    "        # Capture an image every 2 seconds\n",
    "        image_filename = f'captured_image_{int(current_time)}.jpg'\n",
    "        cv2.imwrite(image_filename, frame)\n",
    "        print(f\"Image saved as '{image_filename}'\")\n",
    "\n",
    "    key = cv2.waitKey(1)\n",
    "\n",
    "    if key == 27:  # Press 'Esc' to exit the program\n",
    "        break\n",
    "\n",
    "cam.release()\n",
    "cv2.destroyAllWindows()\n"
   ]
  },
  {
   "cell_type": "code",
   "execution_count": 14,
   "metadata": {},
   "outputs": [],
   "source": [
    "import cv2\n",
    "import time\n",
    "\n",
    "cam = cv2.VideoCapture(0, cv2.CAP_DSHOW)\n",
    "\n",
    "# Wait for 2 seconds\n",
    "time.sleep(2)\n",
    "\n",
    "# Capture an image\n",
    "check, frame = cam.read()\n",
    "\n",
    "# Save the captured image to a file\n",
    "if check:\n",
    "    cv2.imwrite(\"captured_image.jpg\", frame)\n",
    "\n",
    "cam.release()\n",
    "cv2.destroyAllWindows()\n"
   ]
  },
  {
   "cell_type": "code",
   "execution_count": 15,
   "metadata": {},
   "outputs": [],
   "source": [
    "import cv2\n",
    "import time\n",
    "\n",
    "cam = cv2.VideoCapture(0, cv2.CAP_DSHOW)\n",
    "\n",
    "# Start time\n",
    "start_time = time.time()\n",
    "\n",
    "while True:\n",
    "    check, frame = cam.read()\n",
    "\n",
    "    cv2.imshow('video', frame)\n",
    "\n",
    "    key = cv2.waitKey(1)\n",
    "    \n",
    "    # Check if 2 seconds have passed\n",
    "    if time.time() - start_time >= 2:\n",
    "        key = 27  # Simulate pressing the 'Esc' key\n",
    "\n",
    "    if key == 27:\n",
    "        break\n",
    "\n",
    "cam.release()\n",
    "cv2.destroyAllWindows()\n"
   ]
  },
  {
   "cell_type": "code",
   "execution_count": 19,
   "metadata": {},
   "outputs": [
    {
     "name": "stdout",
     "output_type": "stream",
     "text": [
      "Image saved as 'captured_image.jpg'\n"
     ]
    }
   ],
   "source": [
    "import cv2\n",
    "import time\n",
    "\n",
    "cam = cv2.VideoCapture(1, cv2.CAP_DSHOW)\n",
    "start_time = time.time()\n",
    "\n",
    "while True:\n",
    "    check, frame = cam.read()\n",
    "    \n",
    "    cv2.imshow('video', frame)\n",
    "    key = cv2.waitKey(1)\n",
    "\n",
    "    if key == 27:  # Press 'Esc' to exit the program\n",
    "        break\n",
    "    elif key == ord('s') or time.time() - start_time >= 2:\n",
    "        # Press 's' or 'S' to save the current frame as an image\n",
    "        cv2.imwrite('captured_image.jpg', frame)\n",
    "        print(\"Image saved as 'captured_image.jpg'\")\n",
    "        break\n",
    "\n",
    "cam.release()\n",
    "cv2.destroyAllWindows()"
   ]
  },
  {
   "cell_type": "code",
   "execution_count": null,
   "metadata": {},
   "outputs": [],
   "source": [
    "\"\"\"import cv2\n",
    "\n",
    "# Initialize the camera\n",
    "camera =cv2.VideoCapture(0, cv2.CAP_DSHOW)\n",
    "for i in range(1):\n",
    "    return_value, image = camera.read()\n",
    "    cv2.imwrite('opencv'+str(i)+'.png', image)\n",
    "del(camera)\"\"\""
   ]
  }
 ],
 "metadata": {
  "kernelspec": {
   "display_name": "Python 3",
   "language": "python",
   "name": "python3"
  },
  "language_info": {
   "codemirror_mode": {
    "name": "ipython",
    "version": 3
   },
   "file_extension": ".py",
   "mimetype": "text/x-python",
   "name": "python",
   "nbconvert_exporter": "python",
   "pygments_lexer": "ipython3",
   "version": "3.9.13"
  }
 },
 "nbformat": 4,
 "nbformat_minor": 2
}
