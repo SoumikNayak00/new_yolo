{
 "cells": [
  {
   "cell_type": "code",
   "execution_count": 5,
   "metadata": {},
   "outputs": [
    {
     "name": "stdout",
     "output_type": "stream",
     "text": [
      "7.70625\n",
      "8.015625\n",
      "11.119196607809622\n",
      "12.191658345078613\n",
      "163.57634685872372\n",
      "33.31743008330855\n",
      "163.10622305796772\n"
     ]
    }
   ],
   "source": [
    "import math\n",
    "xc=274\n",
    "yc=285\n",
    "xcf=xc*18/640\n",
    "print(xcf)\n",
    "ycf=yc*18/640\n",
    "print(ycf)\n",
    "\n",
    "# warning!!!!!! run the upper 2 values only for testing purpose\n",
    "\n",
    "l1=15\n",
    "l2=20\n",
    "#l3=15\n",
    "l3=22\n",
    "l4=10\n",
    "\n",
    "d=math.sqrt(xcf**2 + ycf**2)\n",
    "print(d)\n",
    "d1=math.sqrt(d**2 + (l1-l4)**2)\n",
    "print(d1)\n",
    "a3 = math.degrees(math.acos((l3**2 + l2**2 - d1**2) / (2 * l3 * l2)))\n",
    "a2 = math.degrees(l3 * math.sin(a3) / d1)+math.degrees(math.atan(d/(l1-l4)))\n",
    "a4 = 180-a2-a3+90+90\n",
    "#this code is for testing purpose , will work only if l1 and l2 are same and moreover l4,l5 are zero\n",
    "\n",
    "print (a2)\n",
    "print (a3)\n",
    "print (a4)"
   ]
  },
  {
   "cell_type": "code",
   "execution_count": 1,
   "metadata": {},
   "outputs": [
    {
     "ename": "NameError",
     "evalue": "name 'a3' is not defined",
     "output_type": "error",
     "traceback": [
      "\u001b[1;31m---------------------------------------------------------------------------\u001b[0m",
      "\u001b[1;31mNameError\u001b[0m                                 Traceback (most recent call last)",
      "\u001b[1;32md:\\back\\robotstry\\YOLO-Object-Detection\\inverse kinematcs.ipynb Cell 2\u001b[0m line \u001b[0;36m2\n\u001b[0;32m      <a href='vscode-notebook-cell:/d%3A/back/robotstry/YOLO-Object-Detection/inverse%20kinematcs.ipynb#W1sZmlsZQ%3D%3D?line=0'>1</a>\u001b[0m \u001b[39m#a3 real\u001b[39;00m\n\u001b[1;32m----> <a href='vscode-notebook-cell:/d%3A/back/robotstry/YOLO-Object-Detection/inverse%20kinematcs.ipynb#W1sZmlsZQ%3D%3D?line=1'>2</a>\u001b[0m a3r\u001b[39m=\u001b[39ma3\u001b[39m-\u001b[39m\u001b[39m10\u001b[39m\n\u001b[0;32m      <a href='vscode-notebook-cell:/d%3A/back/robotstry/YOLO-Object-Detection/inverse%20kinematcs.ipynb#W1sZmlsZQ%3D%3D?line=2'>3</a>\u001b[0m \u001b[39m#a2 real\u001b[39;00m\n\u001b[0;32m      <a href='vscode-notebook-cell:/d%3A/back/robotstry/YOLO-Object-Detection/inverse%20kinematcs.ipynb#W1sZmlsZQ%3D%3D?line=3'>4</a>\u001b[0m a2r\u001b[39m=\u001b[39m\u001b[39m282\u001b[39m\u001b[39m-\u001b[39ma2\n",
      "\u001b[1;31mNameError\u001b[0m: name 'a3' is not defined"
     ]
    }
   ],
   "source": [
    "#a3 real\n",
    "a3r=a3-10\n",
    "#a2 real\n",
    "a2r=282-a2"
   ]
  },
  {
   "cell_type": "code",
   "execution_count": null,
   "metadata": {},
   "outputs": [],
   "source": []
  }
 ],
 "metadata": {
  "kernelspec": {
   "display_name": "Python 3",
   "language": "python",
   "name": "python3"
  },
  "language_info": {
   "codemirror_mode": {
    "name": "ipython",
    "version": 3
   },
   "file_extension": ".py",
   "mimetype": "text/x-python",
   "name": "python",
   "nbconvert_exporter": "python",
   "pygments_lexer": "ipython3",
   "version": "3.9.13"
  }
 },
 "nbformat": 4,
 "nbformat_minor": 2
}
